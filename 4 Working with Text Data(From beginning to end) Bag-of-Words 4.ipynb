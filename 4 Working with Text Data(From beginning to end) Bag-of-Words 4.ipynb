{
 "cells": [
  {
   "cell_type": "markdown",
   "metadata": {},
   "source": [
    "# The Bag-of-Words Model"
   ]
  },
  {
   "cell_type": "markdown",
   "metadata": {},
   "source": [
    "In language processing, the vectors x are derived from textual data, in order to\n",
    "reflect various linguistic properties of the text.\n",
    "\n",
    "This is called feature extraction or feature encoding. A popular and simple method of feature\n",
    "extraction with text data is called the bag-of-words model of text.\n",
    "\n",
    "A bag-of-words is a representation of text that describes the occurrence of words within a document. It involves two things:\n",
    "    \n",
    "1) A vocabulary of known words.\n",
    "\n",
    "2) A measure of the presence of known words."
   ]
  },
  {
   "cell_type": "code",
   "execution_count": null,
   "metadata": {},
   "outputs": [],
   "source": []
  },
  {
   "cell_type": "markdown",
   "metadata": {},
   "source": [
    "#### Mechanism of Bag of Words"
   ]
  },
  {
   "cell_type": "code",
   "execution_count": null,
   "metadata": {},
   "outputs": [],
   "source": [
    "It was the best of times,\n",
    "it was the worst of times,\n",
    "it was the age of wisdom,\n",
    "it was the age of foolishness,"
   ]
  },
  {
   "cell_type": "code",
   "execution_count": null,
   "metadata": {},
   "outputs": [],
   "source": [
    "#finding the total unique words\n",
    "it\n",
    "was\n",
    "the\n",
    "best\n",
    "of\n",
    "times\n",
    "worst\n",
    "age\n",
    "wisdom\n",
    "foolishness"
   ]
  },
  {
   "cell_type": "code",
   "execution_count": null,
   "metadata": {},
   "outputs": [],
   "source": [
    "#create document vector\n",
    "it = 1\n",
    "was = 1\n",
    "the = 1\n",
    "best = 1\n",
    "of = 1\n",
    "times = 1\n",
    "worst = 0\n",
    "age = 0\n",
    "wisdom = 0\n",
    "foolishness = 0"
   ]
  },
  {
   "cell_type": "code",
   "execution_count": null,
   "metadata": {},
   "outputs": [],
   "source": [
    "#for the first sentence\n",
    "[1, 1, 1, 1, 1, 1, 0, 0, 0, 0]\n",
    "\n",
    "\n",
    "#for other three sentence\n",
    "\"it was the worst of times\" = [1, 1, 1, 0, 1, 1, 1, 0, 0, 0]\n",
    "\"it was the age of wisdom\" = [1, 1, 1, 0, 1, 0, 0, 1, 1, 0]\n",
    "\"it was the age of foolishness\" = [1, 1, 1, 0, 1, 0, 0, 1, 0, 1]"
   ]
  },
  {
   "cell_type": "code",
   "execution_count": null,
   "metadata": {},
   "outputs": [],
   "source": []
  },
  {
   "cell_type": "markdown",
   "metadata": {},
   "source": [
    "#### Scoring Words"
   ]
  },
  {
   "cell_type": "markdown",
   "metadata": {},
   "source": [
    "Once a vocabulary has been chosen, the occurrence of words in example documents needs to be\n",
    "scored. In the worked example, we have already seen one very simple approach to scoring: a\n",
    "binary scoring of the presence or absence of words. Some additional simple scoring methods\n",
    "include:\n",
    "    \n",
    "1) Counts-> Count the number of times each word appears in a document.\n",
    "\n",
    "2) Frequencies-> Calculate the frequency that each word appears in a document out of all the words in the document."
   ]
  },
  {
   "cell_type": "markdown",
   "metadata": {},
   "source": [
    "#### Word Hashing"
   ]
  },
  {
   "cell_type": "code",
   "execution_count": null,
   "metadata": {},
   "outputs": [],
   "source": []
  },
  {
   "cell_type": "markdown",
   "metadata": {},
   "source": [
    "#### TF-IDF"
   ]
  },
  {
   "cell_type": "markdown",
   "metadata": {},
   "source": [
    "A problem with scoring word frequency is that highly frequent words start to dominate in the\n",
    "document (e.g. larger score), but may not contain as much informational content to the model\n",
    "as rarer but perhaps domain specific words. One approach is to rescale the frequency of words\n",
    "by how often they appear in all documents, so that the scores for frequent words like the that\n",
    "are also frequent across all documents are penalized. This approach to scoring is called Term\n",
    "Frequency - Inverse Document Frequency, or TF-IDF for short, where:\n",
    "    \n",
    "1) Term Frequency: is a scoring of the frequency of the word in the current document.\n",
    "\n",
    "2) Inverse Document Frequency: is a scoring of how rare the word is across documents."
   ]
  },
  {
   "cell_type": "code",
   "execution_count": null,
   "metadata": {},
   "outputs": [],
   "source": []
  },
  {
   "cell_type": "markdown",
   "metadata": {},
   "source": [
    "#### Limitation of Bag-of-Words"
   ]
  },
  {
   "cell_type": "markdown",
   "metadata": {},
   "source": [
    "The bag-of-words model is very simple to understand and implement and offers a lot of flexibility\n",
    "for customization on your specific text data. It has been used with great success on prediction\n",
    "problems like language modeling and documentation classification. Nevertheless, it suffers from\n",
    "some shortcomings, such as:\n",
    "    \n",
    "1) Vocabulary: The vocabulary requires careful design, most specifically in order to manage the size, which impacts the sparsity of the document representations.\n",
    "\n",
    "2) Sparsity: Sparse representations are harder to model both for computational reasons(space and time complexity) and also for information reasons, where the challenge is for the models to harness so little information in such a large representational space.\n",
    "\n",
    "3) Meaning: Discarding word order ignores the context, and in turn meaning of words in the document (semantics). Context and meaning can offer a lot to the model, that if modeled could tell the difference between the same words differently arranged (this is interesting vs is this interesting), synonyms (old bike vs used bike), and much more."
   ]
  },
  {
   "cell_type": "code",
   "execution_count": null,
   "metadata": {},
   "outputs": [],
   "source": []
  }
 ],
 "metadata": {
  "kernelspec": {
   "display_name": "Python 3",
   "language": "python",
   "name": "python3"
  },
  "language_info": {
   "codemirror_mode": {
    "name": "ipython",
    "version": 3
   },
   "file_extension": ".py",
   "mimetype": "text/x-python",
   "name": "python",
   "nbconvert_exporter": "python",
   "pygments_lexer": "ipython3",
   "version": "3.7.4"
  }
 },
 "nbformat": 4,
 "nbformat_minor": 2
}
