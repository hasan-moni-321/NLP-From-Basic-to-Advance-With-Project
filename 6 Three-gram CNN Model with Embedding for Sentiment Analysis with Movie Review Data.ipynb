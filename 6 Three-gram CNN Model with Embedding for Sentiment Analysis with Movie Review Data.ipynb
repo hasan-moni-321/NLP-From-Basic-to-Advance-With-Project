{
 "cells": [
  {
   "cell_type": "code",
   "execution_count": 192,
   "metadata": {},
   "outputs": [],
   "source": [
    "import numpy as np\n",
    "import pandas as pd\n",
    "import string\n",
    "import re, os\n",
    "\n",
    "from pickle import dump,load\n",
    "from os import listdir\n",
    "from nltk.corpus import stopwords\n",
    "from collections import Counter\n",
    "\n",
    "from keras.preprocessing.text import Tokenizer\n",
    "from keras.utils import to_categorical\n",
    "from keras.preprocessing.sequence import pad_sequences\n",
    "from keras.utils.vis_utils import plot_model\n",
    "from keras.models import Sequential, Model\n",
    "from keras.layers import Dense, LSTM, Embedding, Input, Conv1D, Dropout, MaxPooling1D, Flatten\n",
    "from keras.layers import concatenate\n",
    "from keras.models import load_model\n",
    "\n"
   ]
  },
  {
   "cell_type": "markdown",
   "metadata": {},
   "source": [
    "### Loading Data"
   ]
  },
  {
   "cell_type": "code",
   "execution_count": 193,
   "metadata": {},
   "outputs": [],
   "source": [
    "# load doc into memory\n",
    "def load_doc(filename):\n",
    "    file = open(filename, 'r')\n",
    "    text = file.read()\n",
    "    file.close()\n",
    "    return text\n"
   ]
  },
  {
   "cell_type": "markdown",
   "metadata": {},
   "source": [
    "### Cleaning Data"
   ]
  },
  {
   "cell_type": "code",
   "execution_count": 194,
   "metadata": {},
   "outputs": [],
   "source": [
    "# turn a doc into clean tokens\n",
    "def clean_doc(doc):\n",
    "    tokens = doc.split()\n",
    "    # prepare regex for char filtering\n",
    "    re_punc = re.compile( '[%s]' % re.escape(string.punctuation))\n",
    "    # remove punctuation from each word\n",
    "    tokens = [re_punc.sub( '' , w) for w in tokens]\n",
    "    tokens = [word for word in tokens if word.isalpha()]\n",
    "    stop_words = set(stopwords.words('english'))\n",
    "    tokens = [w for w in tokens if not w in stop_words]\n",
    "    tokens = [word for word in tokens if len(word) > 1]\n",
    "    return tokens\n",
    "\n"
   ]
  },
  {
   "cell_type": "markdown",
   "metadata": {},
   "source": [
    "### Train and Test Document"
   ]
  },
  {
   "cell_type": "code",
   "execution_count": 195,
   "metadata": {},
   "outputs": [],
   "source": [
    "# load all docs in a directory\n",
    "def process_docs(directory, is_train):\n",
    "    documents = list()\n",
    "    for filename in listdir(directory):\n",
    "        # skip any reviews in the test set\n",
    "        if is_train and filename.startswith('cv9'):\n",
    "            continue\n",
    "        if not is_train and not filename.startswith('cv9'):\n",
    "            continue\n",
    "        path = directory + '/' + filename\n",
    "        doc = load_doc(path)\n",
    "        tokens = clean_doc(doc)\n",
    "        documents.append(tokens)\n",
    "    return documents"
   ]
  },
  {
   "cell_type": "code",
   "execution_count": 196,
   "metadata": {},
   "outputs": [],
   "source": [
    "# load and clean a dataset\n",
    "def load_clean_dataset(is_train):\n",
    "    # load documents\n",
    "    neg = process_docs('txt_sentoken/neg' , is_train)\n",
    "    pos = process_docs('txt_sentoken/pos' , is_train)\n",
    "    docs = neg + pos\n",
    "    # prepare labels\n",
    "    labels = [0 for _ in range(len(neg))] + [1 for _ in range(len(pos))]\n",
    "    return docs, labels"
   ]
  },
  {
   "cell_type": "markdown",
   "metadata": {},
   "source": [
    "### load and clean all reviews"
   ]
  },
  {
   "cell_type": "code",
   "execution_count": 197,
   "metadata": {},
   "outputs": [],
   "source": [
    "train_docs, ytrain = load_clean_dataset(True)\n",
    "test_docs, ytest = load_clean_dataset(False)"
   ]
  },
  {
   "cell_type": "markdown",
   "metadata": {},
   "source": [
    "### Save Dataset"
   ]
  },
  {
   "cell_type": "code",
   "execution_count": 198,
   "metadata": {},
   "outputs": [
    {
     "name": "stdout",
     "output_type": "stream",
     "text": [
      "Saved: train.pkl\n",
      "Saved: test.pkl\n"
     ]
    }
   ],
   "source": [
    "# save a dataset to file\n",
    "def save_dataset(dataset, filename):\n",
    "    dump(dataset, open(filename, 'wb'))\n",
    "    print('Saved: %s' % filename)\n",
    "    \n",
    "\n",
    "# save training datasets\n",
    "save_dataset([train_docs, ytrain], 'train.pkl')\n",
    "save_dataset([test_docs, ytest], 'test.pkl')"
   ]
  },
  {
   "cell_type": "markdown",
   "metadata": {},
   "source": [
    "### load saved dataset"
   ]
  },
  {
   "cell_type": "code",
   "execution_count": 199,
   "metadata": {},
   "outputs": [],
   "source": [
    "def load_dataset(filename):\n",
    "    return load(open(filename, 'rb'))\n",
    "\n",
    "\n",
    "# load datasets\n",
    "trainLines, trainLabels = load_dataset('train.pkl')\n",
    "testLines, testLabels = load_dataset('test.pkl')"
   ]
  },
  {
   "cell_type": "code",
   "execution_count": 200,
   "metadata": {},
   "outputs": [
    {
     "data": {
      "text/plain": [
       "['jessica',\n",
       " 'lange',\n",
       " 'one',\n",
       " 'inconsistent',\n",
       " 'actresses',\n",
       " 'working',\n",
       " 'today',\n",
       " 'timetotime',\n",
       " 'blows',\n",
       " 'away',\n",
       " 'audiences',\n",
       " 'powerful',\n",
       " 'intense',\n",
       " 'performances',\n",
       " 'hand',\n",
       " 'woman',\n",
       " 'made',\n",
       " 'jawdroppingly',\n",
       " 'awful',\n",
       " 'feature',\n",
       " 'debut',\n",
       " 'dino',\n",
       " 'delaurentiis',\n",
       " 'king',\n",
       " 'kong',\n",
       " 'much',\n",
       " 'lange',\n",
       " 'would',\n",
       " 'probably',\n",
       " 'prefer',\n",
       " 'moviegoers',\n",
       " 'develop',\n",
       " 'amnesia',\n",
       " 'regarding',\n",
       " 'particular',\n",
       " 'entry',\n",
       " 'resume',\n",
       " 'every',\n",
       " 'work',\n",
       " 'reminiscent',\n",
       " 'quality',\n",
       " 'hush',\n",
       " 'one',\n",
       " 'example',\n",
       " 'lange',\n",
       " 'bad',\n",
       " 'might',\n",
       " 'fun',\n",
       " 'watch',\n",
       " 'rest',\n",
       " 'film',\n",
       " 'wasnt',\n",
       " 'prime',\n",
       " 'example',\n",
       " 'motion',\n",
       " 'picture',\n",
       " 'tedium',\n",
       " 'film',\n",
       " 'opens',\n",
       " 'many',\n",
       " 'socalled',\n",
       " 'psychological',\n",
       " 'thrillers',\n",
       " 'posing',\n",
       " 'light',\n",
       " 'drama',\n",
       " 'introduced',\n",
       " 'jackson',\n",
       " 'johnathon',\n",
       " 'schaech',\n",
       " 'last',\n",
       " 'encounter',\n",
       " 'tom',\n",
       " 'hanks',\n",
       " 'thing',\n",
       " 'helen',\n",
       " 'gwyneth',\n",
       " 'paltrow',\n",
       " 'picture',\n",
       " 'perfect',\n",
       " 'young',\n",
       " 'couple',\n",
       " 'much',\n",
       " 'love',\n",
       " 'jackson',\n",
       " 'taking',\n",
       " 'helen',\n",
       " 'home',\n",
       " 'holidays',\n",
       " 'meet',\n",
       " 'mother',\n",
       " 'martha',\n",
       " 'lange',\n",
       " 'moment',\n",
       " 'first',\n",
       " 'saw',\n",
       " 'martha',\n",
       " 'started',\n",
       " 'looking',\n",
       " 'fangs',\n",
       " 'soon',\n",
       " 'wicked',\n",
       " 'witch',\n",
       " 'east',\n",
       " 'plotting',\n",
       " 'way',\n",
       " 'son',\n",
       " 'get',\n",
       " 'helen',\n",
       " 'pregnant',\n",
       " 'involves',\n",
       " 'poking',\n",
       " 'hole',\n",
       " 'diaphragm',\n",
       " 'goal',\n",
       " 'accomplished',\n",
       " 'manipulates',\n",
       " 'events',\n",
       " 'expecting',\n",
       " 'couple',\n",
       " 'moves',\n",
       " 'new',\n",
       " 'york',\n",
       " 'city',\n",
       " 'horse',\n",
       " 'farm',\n",
       " 'lives',\n",
       " 'long',\n",
       " 'gets',\n",
       " 'way',\n",
       " 'martha',\n",
       " 'perfectly',\n",
       " 'amicable',\n",
       " 'person',\n",
       " 'helen',\n",
       " 'defies',\n",
       " 'declaration',\n",
       " 'war',\n",
       " 'hush',\n",
       " 'three',\n",
       " 'simple',\n",
       " 'problems',\n",
       " 'incredibly',\n",
       " 'dumb',\n",
       " 'incredibly',\n",
       " 'boring',\n",
       " 'incredibly',\n",
       " 'predictable',\n",
       " 'least',\n",
       " 'stupefying',\n",
       " 'ending',\n",
       " 'film',\n",
       " 'absolutely',\n",
       " 'nothing',\n",
       " 'recommend',\n",
       " 'exception',\n",
       " 'couple',\n",
       " 'nice',\n",
       " 'shots',\n",
       " 'snowcovered',\n",
       " 'fields',\n",
       " 'quick',\n",
       " 'glimpse',\n",
       " 'gwyneth',\n",
       " 'paltrows',\n",
       " 'bare',\n",
       " 'buttocks',\n",
       " 'frankly',\n",
       " 'embarrassing',\n",
       " 'watch',\n",
       " 'respected',\n",
       " 'actress',\n",
       " 'langes',\n",
       " 'stature',\n",
       " 'give',\n",
       " 'performance',\n",
       " 'like',\n",
       " 'like',\n",
       " 'bad',\n",
       " 'blanche',\n",
       " 'dubois',\n",
       " 'role',\n",
       " 'played',\n",
       " 'tv',\n",
       " 'version',\n",
       " 'streetcar',\n",
       " 'named',\n",
       " 'desire',\n",
       " 'meanwhile',\n",
       " 'paltrow',\n",
       " 'best',\n",
       " 'get',\n",
       " 'dialogue',\n",
       " 'without',\n",
       " 'gaping',\n",
       " 'stupidity',\n",
       " 'lines',\n",
       " 'schaech',\n",
       " 'attempts',\n",
       " 'passable',\n",
       " 'imitation',\n",
       " 'inanimate',\n",
       " 'object',\n",
       " 'psychological',\n",
       " 'thrillers',\n",
       " 'battle',\n",
       " 'lines',\n",
       " 'clearly',\n",
       " 'drawn',\n",
       " 'mom',\n",
       " 'wife',\n",
       " 'jackson',\n",
       " 'caught',\n",
       " 'middle',\n",
       " 'course',\n",
       " 'since',\n",
       " 'schaechs',\n",
       " 'character',\n",
       " 'poorlydeveloped',\n",
       " 'badly',\n",
       " 'acted',\n",
       " 'impossible',\n",
       " 'say',\n",
       " 'feels',\n",
       " 'situation',\n",
       " 'maybe',\n",
       " 'someone',\n",
       " 'ask',\n",
       " 'hes',\n",
       " 'familiar',\n",
       " 'oedipus',\n",
       " 'martha',\n",
       " 'course',\n",
       " 'evil',\n",
       " 'one',\n",
       " 'know',\n",
       " 'shes',\n",
       " 'evil',\n",
       " 'smokes',\n",
       " 'cigarettes',\n",
       " 'drinks',\n",
       " 'hard',\n",
       " 'liquor',\n",
       " 'two',\n",
       " 'sure',\n",
       " 'signs',\n",
       " 'devil',\n",
       " 'work',\n",
       " 'hand',\n",
       " 'helen',\n",
       " 'good',\n",
       " 'girl',\n",
       " 'evidence',\n",
       " 'shes',\n",
       " 'nice',\n",
       " 'old',\n",
       " 'ladies',\n",
       " 'treasures',\n",
       " 'locket',\n",
       " 'picture',\n",
       " 'dead',\n",
       " 'parents',\n",
       " 'thats',\n",
       " 'character',\n",
       " 'development',\n",
       " 'beyond',\n",
       " 'point',\n",
       " 'hush',\n",
       " 'series',\n",
       " 'increasingly',\n",
       " 'hardtoswallow',\n",
       " 'coincidences',\n",
       " 'contrivances',\n",
       " 'moronic',\n",
       " 'plot',\n",
       " 'twists',\n",
       " 'however',\n",
       " 'first',\n",
       " 'minutes',\n",
       " 'warmup',\n",
       " 'ending',\n",
       " 'anticlimactic',\n",
       " 'profoundly',\n",
       " 'dissatisfying',\n",
       " 'cant',\n",
       " 'imagine',\n",
       " 'anyone',\n",
       " 'matter',\n",
       " 'thought',\n",
       " 'movie',\n",
       " 'whole',\n",
       " 'liking',\n",
       " 'conclusion',\n",
       " 'either',\n",
       " 'serious',\n",
       " 'lastminute',\n",
       " 'editing',\n",
       " 'someone',\n",
       " 'left',\n",
       " 'pages',\n",
       " 'script',\n",
       " 'climax',\n",
       " 'disliked',\n",
       " 'hush',\n",
       " 'time',\n",
       " 'end',\n",
       " 'credits',\n",
       " 'started',\n",
       " 'hated',\n",
       " 'viewers',\n",
       " 'invest',\n",
       " 'something',\n",
       " 'every',\n",
       " 'movie',\n",
       " 'watch',\n",
       " 'matter',\n",
       " 'good',\n",
       " 'bad',\n",
       " 'cheating',\n",
       " 'like',\n",
       " 'offensive',\n",
       " 'unpardonable',\n",
       " 'entries',\n",
       " 'wornout',\n",
       " 'wormeaten',\n",
       " 'genre',\n",
       " 'arent',\n",
       " 'especially',\n",
       " 'good',\n",
       " 'films',\n",
       " 'like',\n",
       " 'consenting',\n",
       " 'adults',\n",
       " 'hand',\n",
       " 'rocks',\n",
       " 'cradle',\n",
       " 'single',\n",
       " 'white',\n",
       " 'female',\n",
       " 'rely',\n",
       " 'stock',\n",
       " 'plots',\n",
       " 'predictable',\n",
       " 'twists',\n",
       " 'propel',\n",
       " 'narrative',\n",
       " 'along',\n",
       " 'general',\n",
       " 'however',\n",
       " 'theyre',\n",
       " 'directed',\n",
       " 'degree',\n",
       " 'competence',\n",
       " 'assures',\n",
       " 'level',\n",
       " 'sustained',\n",
       " 'tension',\n",
       " 'thats',\n",
       " 'case',\n",
       " 'really',\n",
       " 'bad',\n",
       " 'thrillers',\n",
       " 'like',\n",
       " 'fail',\n",
       " 'generate',\n",
       " 'even',\n",
       " 'momentary',\n",
       " 'heart',\n",
       " 'palpitation',\n",
       " 'characters',\n",
       " 'bland',\n",
       " 'plot',\n",
       " 'uninvolving',\n",
       " 'anyone',\n",
       " 'audience',\n",
       " 'care',\n",
       " 'indeed',\n",
       " 'title',\n",
       " 'movie',\n",
       " 'probably',\n",
       " 'refers',\n",
       " 'producers',\n",
       " 'hope',\n",
       " 'viewers',\n",
       " 'lieu',\n",
       " 'telling',\n",
       " 'friends',\n",
       " 'really',\n",
       " 'think',\n",
       " 'sorry',\n",
       " 'piece',\n",
       " 'celluloid']"
      ]
     },
     "execution_count": 200,
     "metadata": {},
     "output_type": "execute_result"
    }
   ],
   "source": [
    "trainLines[100]"
   ]
  },
  {
   "cell_type": "code",
   "execution_count": 201,
   "metadata": {},
   "outputs": [
    {
     "data": {
      "text/plain": [
       "1800"
      ]
     },
     "execution_count": 201,
     "metadata": {},
     "output_type": "execute_result"
    }
   ],
   "source": [
    "len(trainLines)"
   ]
  },
  {
   "cell_type": "markdown",
   "metadata": {},
   "source": [
    "### Tokenizer"
   ]
  },
  {
   "cell_type": "code",
   "execution_count": 202,
   "metadata": {},
   "outputs": [],
   "source": [
    "# fit a tokenizer\n",
    "def create_tokenizer(lines):\n",
    "    tokenizer = Tokenizer()\n",
    "    tokenizer.fit_on_texts(lines)\n",
    "    return tokenizer\n",
    "\n",
    "# create tokenizer\n",
    "tokenizer = create_tokenizer(trainLines)"
   ]
  },
  {
   "cell_type": "markdown",
   "metadata": {},
   "source": [
    "### max length"
   ]
  },
  {
   "cell_type": "code",
   "execution_count": 203,
   "metadata": {},
   "outputs": [
    {
     "name": "stdout",
     "output_type": "stream",
     "text": [
      " Max document length: 1380 \n"
     ]
    }
   ],
   "source": [
    "# calculate the maximum document length\n",
    "def max_length(lines):\n",
    "    return max([len(s) for s in lines])\n",
    "\n",
    "# calculate max document length\n",
    "length = max_length(trainLines)\n",
    "print( ' Max document length: %d ' % length)"
   ]
  },
  {
   "cell_type": "markdown",
   "metadata": {},
   "source": [
    "### vocabulary size"
   ]
  },
  {
   "cell_type": "code",
   "execution_count": 204,
   "metadata": {},
   "outputs": [
    {
     "name": "stdout",
     "output_type": "stream",
     "text": [
      " Vocabulary size: 44277 \n"
     ]
    }
   ],
   "source": [
    "# calculate vocabulary size\n",
    "vocab_size = len(tokenizer.word_index) + 1\n",
    "print( ' Vocabulary size: %d ' % vocab_size)"
   ]
  },
  {
   "cell_type": "markdown",
   "metadata": {},
   "source": [
    "### Encode Text"
   ]
  },
  {
   "cell_type": "code",
   "execution_count": 205,
   "metadata": {},
   "outputs": [
    {
     "name": "stdout",
     "output_type": "stream",
     "text": [
      "(1800, 1380) (200, 1380)\n"
     ]
    }
   ],
   "source": [
    "# encode a list of lines\n",
    "def encode_text(tokenizer, lines, length):\n",
    "    # integer encode\n",
    "    encoded = tokenizer.texts_to_sequences(lines)\n",
    "    # pad encoded sequences\n",
    "    padded = pad_sequences(encoded, maxlen=length, padding='post')\n",
    "    return padded\n",
    "\n",
    "\n",
    "# encode data\n",
    "trainX = encode_text(tokenizer, trainLines, length)\n",
    "testX = encode_text(tokenizer, testLines, length)\n",
    "print(trainX.shape, testX.shape)"
   ]
  },
  {
   "cell_type": "markdown",
   "metadata": {},
   "source": [
    "### Model"
   ]
  },
  {
   "cell_type": "code",
   "execution_count": 206,
   "metadata": {},
   "outputs": [],
   "source": [
    "# channel 1\n",
    "inputs1 = Input(shape=(length,))\n",
    "embedding1 = Embedding(vocab_size, 100)(inputs1)\n",
    "conv1 = Conv1D(filters=32, kernel_size=4, activation= 'relu')(embedding1)\n",
    "drop1 = Dropout(0.5)(conv1)\n",
    "pool1 = MaxPooling1D(pool_size=2)(drop1)\n",
    "flat1 = Flatten()(pool1)\n",
    "    \n",
    "# channel 2\n",
    "inputs2 = Input(shape=(length,))\n",
    "embedding2 = Embedding(vocab_size, 100)(inputs2)\n",
    "conv2 = Conv1D(filters=32, kernel_size=6, activation= 'relu')(embedding2)\n",
    "drop2 = Dropout(0.5)(conv2)\n",
    "pool2 = MaxPooling1D(pool_size=2)(drop2)\n",
    "flat2 = Flatten()(pool2)\n",
    "    \n",
    "# channel 3\n",
    "inputs3 = Input(shape=(length,))\n",
    "embedding3 = Embedding(vocab_size, 100)(inputs3)\n",
    "conv3 = Conv1D(filters=32, kernel_size=8, activation= 'relu')(embedding3)\n",
    "drop3 = Dropout(0.5)(conv3)\n",
    "pool3 = MaxPooling1D(pool_size=2)(drop3)\n",
    "flat3 = Flatten()(pool3)\n",
    "    \n",
    "# merge\n",
    "merged = concatenate([flat1, flat2, flat3], axis=1)\n",
    "    \n",
    "# interpretation\n",
    "dense1 = Dense(10, activation= 'relu')(merged)\n",
    "outputs = Dense(1, activation= 'sigmoid')(dense1)\n",
    "model = Model(inputs=[inputs1, inputs2, inputs3], outputs=outputs)\n"
   ]
  },
  {
   "cell_type": "code",
   "execution_count": 207,
   "metadata": {},
   "outputs": [
    {
     "name": "stdout",
     "output_type": "stream",
     "text": [
      "Model: \"model_6\"\n",
      "__________________________________________________________________________________________________\n",
      "Layer (type)                    Output Shape         Param #     Connected to                     \n",
      "==================================================================================================\n",
      "input_48 (InputLayer)           (None, 1380)         0                                            \n",
      "__________________________________________________________________________________________________\n",
      "input_49 (InputLayer)           (None, 1380)         0                                            \n",
      "__________________________________________________________________________________________________\n",
      "input_50 (InputLayer)           (None, 1380)         0                                            \n",
      "__________________________________________________________________________________________________\n",
      "embedding_48 (Embedding)        (None, 1380, 100)    4427700     input_48[0][0]                   \n",
      "__________________________________________________________________________________________________\n",
      "embedding_49 (Embedding)        (None, 1380, 100)    4427700     input_49[0][0]                   \n",
      "__________________________________________________________________________________________________\n",
      "embedding_50 (Embedding)        (None, 1380, 100)    4427700     input_50[0][0]                   \n",
      "__________________________________________________________________________________________________\n",
      "conv1d_47 (Conv1D)              (None, 1377, 32)     12832       embedding_48[0][0]               \n",
      "__________________________________________________________________________________________________\n",
      "conv1d_48 (Conv1D)              (None, 1375, 32)     19232       embedding_49[0][0]               \n",
      "__________________________________________________________________________________________________\n",
      "conv1d_49 (Conv1D)              (None, 1373, 32)     25632       embedding_50[0][0]               \n",
      "__________________________________________________________________________________________________\n",
      "dropout_45 (Dropout)            (None, 1377, 32)     0           conv1d_47[0][0]                  \n",
      "__________________________________________________________________________________________________\n",
      "dropout_46 (Dropout)            (None, 1375, 32)     0           conv1d_48[0][0]                  \n",
      "__________________________________________________________________________________________________\n",
      "dropout_47 (Dropout)            (None, 1373, 32)     0           conv1d_49[0][0]                  \n",
      "__________________________________________________________________________________________________\n",
      "max_pooling1d_44 (MaxPooling1D) (None, 688, 32)      0           dropout_45[0][0]                 \n",
      "__________________________________________________________________________________________________\n",
      "max_pooling1d_45 (MaxPooling1D) (None, 687, 32)      0           dropout_46[0][0]                 \n",
      "__________________________________________________________________________________________________\n",
      "max_pooling1d_46 (MaxPooling1D) (None, 686, 32)      0           dropout_47[0][0]                 \n",
      "__________________________________________________________________________________________________\n",
      "flatten_43 (Flatten)            (None, 22016)        0           max_pooling1d_44[0][0]           \n",
      "__________________________________________________________________________________________________\n",
      "flatten_44 (Flatten)            (None, 21984)        0           max_pooling1d_45[0][0]           \n",
      "__________________________________________________________________________________________________\n",
      "flatten_45 (Flatten)            (None, 21952)        0           max_pooling1d_46[0][0]           \n",
      "__________________________________________________________________________________________________\n",
      "concatenate_7 (Concatenate)     (None, 65952)        0           flatten_43[0][0]                 \n",
      "                                                                 flatten_44[0][0]                 \n",
      "                                                                 flatten_45[0][0]                 \n",
      "__________________________________________________________________________________________________\n",
      "dense_13 (Dense)                (None, 10)           659530      concatenate_7[0][0]              \n",
      "__________________________________________________________________________________________________\n",
      "dense_14 (Dense)                (None, 1)            11          dense_13[0][0]                   \n",
      "==================================================================================================\n",
      "Total params: 14,000,337\n",
      "Trainable params: 14,000,337\n",
      "Non-trainable params: 0\n",
      "__________________________________________________________________________________________________\n"
     ]
    }
   ],
   "source": [
    "# summarize\n",
    "model.summary()"
   ]
  },
  {
   "cell_type": "code",
   "execution_count": 208,
   "metadata": {},
   "outputs": [],
   "source": [
    "# compile\n",
    "model.compile(loss= 'binary_crossentropy' , \n",
    "              optimizer= 'adam' , \n",
    "              metrics=['accuracy'])\n"
   ]
  },
  {
   "cell_type": "code",
   "execution_count": 209,
   "metadata": {},
   "outputs": [
    {
     "data": {
      "image/png": "[encoded data removed]",
      "text/plain": [
       "<IPython.core.display.Image object>"
      ]
     },
     "execution_count": 209,
     "metadata": {},
     "output_type": "execute_result"
    }
   ],
   "source": [
    "#plotting model\n",
    "plot_model(model, show_shapes=True, to_file= 'multichannel.png')"
   ]
  },
  {
   "cell_type": "markdown",
   "metadata": {},
   "source": [
    "### Fit model"
   ]
  },
  {
   "cell_type": "code",
   "execution_count": 210,
   "metadata": {},
   "outputs": [
    {
     "name": "stderr",
     "output_type": "stream",
     "text": [
      "/home/hasan/anaconda3/lib/python3.7/site-packages/tensorflow_core/python/framework/indexed_slices.py:424: UserWarning: Converting sparse IndexedSlices to a dense Tensor of unknown shape. This may consume a large amount of memory.\n",
      "  \"Converting sparse IndexedSlices to a dense Tensor of unknown shape. \"\n"
     ]
    },
    {
     "data": {
      "text/plain": [
       "<keras.callbacks.callbacks.History at 0x7ff8cefc66d0>"
      ]
     },
     "execution_count": 210,
     "metadata": {},
     "output_type": "execute_result"
    }
   ],
   "source": [
    "model.fit([trainX,trainX,trainX], trainLabels, epochs=12, batch_size=16, verbose=0)"
   ]
  },
  {
   "cell_type": "code",
   "execution_count": 211,
   "metadata": {},
   "outputs": [],
   "source": [
    "# save the model\n",
    "model.save('model.h5')"
   ]
  },
  {
   "cell_type": "markdown",
   "metadata": {},
   "source": [
    "### Evaluate Model"
   ]
  },
  {
   "cell_type": "code",
   "execution_count": 212,
   "metadata": {},
   "outputs": [
    {
     "name": "stderr",
     "output_type": "stream",
     "text": [
      "/home/hasan/anaconda3/lib/python3.7/site-packages/tensorflow_core/python/framework/indexed_slices.py:424: UserWarning: Converting sparse IndexedSlices to a dense Tensor of unknown shape. This may consume a large amount of memory.\n",
      "  \"Converting sparse IndexedSlices to a dense Tensor of unknown shape. \"\n"
     ]
    }
   ],
   "source": [
    "# load the model\n",
    "model = load_model('model.h5')"
   ]
  },
  {
   "cell_type": "code",
   "execution_count": 213,
   "metadata": {},
   "outputs": [
    {
     "name": "stdout",
     "output_type": "stream",
     "text": [
      " Train Accuracy: 100.00 \n",
      " Test Accuracy: 87.00 \n"
     ]
    }
   ],
   "source": [
    "# evaluate model on training dataset\n",
    "_, acc = model.evaluate([trainX,trainX,trainX], trainLabels, verbose=0)\n",
    "print( ' Train Accuracy: %.2f ' % (acc*100))\n",
    "\n",
    "# evaluate model on test dataset dataset\n",
    "_, acc = model.evaluate([testX,testX,testX], testLabels, verbose=0)\n",
    "print( ' Test Accuracy: %.2f ' % (acc*100))"
   ]
  },
  {
   "cell_type": "code",
   "execution_count": null,
   "metadata": {},
   "outputs": [],
   "source": []
  },
  {
   "cell_type": "markdown",
   "metadata": {},
   "source": [
    "Our model is somewhat overfitted!\n",
    "\n",
    "I need more hyperparameter tuning."
   ]
  },
  {
   "cell_type": "code",
   "execution_count": null,
   "metadata": {},
   "outputs": [],
   "source": []
  }
 ],
 "metadata": {
  "kernelspec": {
   "display_name": "Python 3",
   "language": "python",
   "name": "python3"
  },
  "language_info": {
   "codemirror_mode": {
    "name": "ipython",
    "version": 3
   },
   "file_extension": ".py",
   "mimetype": "text/x-python",
   "name": "python",
   "nbconvert_exporter": "python",
   "pygments_lexer": "ipython3",
   "version": "3.7.4"
  }
 },
 "nbformat": 4,
 "nbformat_minor": 2
}
